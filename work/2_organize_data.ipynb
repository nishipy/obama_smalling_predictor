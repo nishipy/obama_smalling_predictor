{
 "cells": [
  {
   "cell_type": "markdown",
   "metadata": {},
   "source": [
    "## 訓練データ/検証データ/テストデータの振り分け\n",
    "### データ格納用ディレクトリ作成\n",
    "訓練用データ、検証用データ、テスト用データを格納するためのディレクトリを切る"
   ]
  },
  {
   "cell_type": "code",
   "execution_count": 3,
   "metadata": {},
   "outputs": [],
   "source": [
    "import os, shutil\n",
    "def make_mydir(path):\n",
    "    if not os.path.isdir(path):\n",
    "        os.makedirs(path)"
   ]
  },
  {
   "cell_type": "code",
   "execution_count": 4,
   "metadata": {},
   "outputs": [],
   "source": [
    "base_dir     = './obama_and_smalling/'\n",
    "make_mydir(base_dir)"
   ]
  },
  {
   "cell_type": "code",
   "execution_count": 5,
   "metadata": {},
   "outputs": [],
   "source": [
    "train_dir = os.path.join(base_dir, 'train')\n",
    "valid_dir = os.path.join(base_dir, 'valid')\n",
    "test_dir  = os.path.join(base_dir, 'test')\n",
    "train_smalling = os.path.join(train_dir, 'smalling')\n",
    "valid_smalling = os.path.join(valid_dir, 'smalling')\n",
    "test_smalling  = os.path.join(test_dir, 'smalling')\n",
    "train_obama   = os.path.join(train_dir, 'obama')\n",
    "valid_obama   = os.path.join(valid_dir, 'obama')\n",
    "test_obama    = os.path.join(test_dir, 'obama')\n",
    "dir_list = [train_dir, valid_dir, test_dir, train_smalling, valid_smalling, test_smalling, train_obama, valid_obama, test_obama]\n",
    "\n",
    "for d in dir_list:\n",
    "    make_mydir(d)"
   ]
  },
  {
   "cell_type": "markdown",
   "metadata": {},
   "source": [
    "### 画像の振り分け\n",
    "ます、画像が何枚あるか再確認する。"
   ]
  },
  {
   "cell_type": "code",
   "execution_count": 6,
   "metadata": {},
   "outputs": [
    {
     "name": "stdout",
     "output_type": "stream",
     "text": [
      "Smalling has 231 faces \n",
      "Obama has 255 faces \n"
     ]
    }
   ],
   "source": [
    "org_smalling_dir = './faces/smalling/'\n",
    "org_obama_dir   = './faces/obama/' \n",
    "smalling_faces = os.listdir('./faces/smalling/')\n",
    "obama_faces = os.listdir('./faces/obama/')\n",
    "\n",
    "print('Smalling has {} faces '.format(len(smalling_faces)))\n",
    "print('Obama has {} faces '.format(len(obama_faces)))"
   ]
  },
  {
   "cell_type": "markdown",
   "metadata": {},
   "source": [
    "枚数が違いますが、せっかく収集したので、全部使いたくなりました。\n",
    "訓練データと検証用データは同じ枚数にしたいので、以下のように振り分けてみます。\n",
    "\n",
    "|data|Smalling|Obama|\n",
    "|-|-|-|\n",
    "|train|130|130|\n",
    "|valid|50|50|\n",
    "|test|51|75|"
   ]
  },
  {
   "cell_type": "code",
   "execution_count": 7,
   "metadata": {},
   "outputs": [],
   "source": [
    "# 一応シャッフル\n",
    "import random\n",
    "random.shuffle(smalling_faces)\n",
    "random.shuffle(obama_faces)\n",
    "\n",
    "smalling_train = [smalling_faces[i] for i in range(130)]\n",
    "smalling_valid = [smalling_faces[i] for i in range(130, 180)]\n",
    "smalling_test = [smalling_faces[i] for i in range(180, 231)]\n",
    "\n",
    "obama_train = [obama_faces[i] for i in range(130)]\n",
    "obama_valid = [obama_faces[i] for i in range(130, 180)]\n",
    "obama_test = [obama_faces[i] for i in range(180, 255)]\n",
    "\n",
    "# zip使いたいだけ\n",
    "list_data = [smalling_train, smalling_valid, smalling_test, obama_train, obama_valid, obama_test]\n",
    "list_src   = [org_smalling_dir, org_smalling_dir, org_smalling_dir, org_obama_dir, org_obama_dir, org_obama_dir]\n",
    "list_dest = [train_smalling, valid_smalling, test_smalling, train_obama, valid_obama, test_obama]\n",
    "for data,src,dest in zip(list_data, list_src, list_dest):\n",
    "    for d in data:\n",
    "        src_file = os.path.join(src, d)\n",
    "        dest_file = os.path.join(dest, d)\n",
    "        shutil.copyfile(src_file, dest_file)    "
   ]
  },
  {
   "cell_type": "code",
   "execution_count": 8,
   "metadata": {},
   "outputs": [
    {
     "name": "stdout",
     "output_type": "stream",
     "text": [
      "130\n",
      "50\n",
      "51\n",
      "130\n",
      "50\n",
      "75\n"
     ]
    }
   ],
   "source": [
    "for l in list_data:\n",
    "    print(len(l))"
   ]
  },
  {
   "cell_type": "markdown",
   "metadata": {},
   "source": [
    "訓練データ、検証データ、テストデータに分けることができました。\n",
    "ここまではローカルで操作しましたが、以降はGPUを使いたいのでGoogle Colabで作業します。"
   ]
  }
 ],
 "metadata": {
  "kernelspec": {
   "display_name": "Python 3",
   "language": "python",
   "name": "python3"
  },
  "language_info": {
   "codemirror_mode": {
    "name": "ipython",
    "version": 3
   },
   "file_extension": ".py",
   "mimetype": "text/x-python",
   "name": "python",
   "nbconvert_exporter": "python",
   "pygments_lexer": "ipython3",
   "version": "3.6.6"
  }
 },
 "nbformat": 4,
 "nbformat_minor": 2
}
