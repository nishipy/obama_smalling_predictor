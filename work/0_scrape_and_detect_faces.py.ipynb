{
 "cells": [
  {
   "cell_type": "markdown",
   "metadata": {},
   "source": [
    "##  画像収集\n",
    "まずは、訓練データとしてスモーリングとオバマの画像を収集します。\n",
    "Google画像検索で表示された画像を、それぞれ500枚ずつ収集することにします。\n",
    "Qiitaにあったこちらの記事を見れば、すぐに出来ました。\n",
    "https://qiita.com/skcvim/items/efc296ae1bf0e62f6704"
   ]
  },
  {
   "cell_type": "code",
   "execution_count": null,
   "metadata": {},
   "outputs": [],
   "source": [
    "!./util/image_scraper.py Obama 500"
   ]
  },
  {
   "cell_type": "code",
   "execution_count": null,
   "metadata": {},
   "outputs": [],
   "source": [
    "!./util/image_scraper.py Smalling 500"
   ]
  },
  {
   "cell_type": "markdown",
   "metadata": {},
   "source": [
    "## 別人の画像排除\n",
    "別人の画像は、仕方ないので手作業で取り除きました。\n",
    "かなり枚数が減ってしまいました。"
   ]
  }
 ],
 "metadata": {
  "kernelspec": {
   "display_name": "Python 3",
   "language": "python",
   "name": "python3"
  },
  "language_info": {
   "codemirror_mode": {
    "name": "ipython",
    "version": 3
   },
   "file_extension": ".py",
   "mimetype": "text/x-python",
   "name": "python",
   "nbconvert_exporter": "python",
   "pygments_lexer": "ipython3",
   "version": "3.6.6"
  }
 },
 "nbformat": 4,
 "nbformat_minor": 2
}
